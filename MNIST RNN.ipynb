{
 "cells": [
  {
   "cell_type": "markdown",
   "metadata": {},
   "source": [
    "# MNSIT RNN test"
   ]
  },
  {
   "cell_type": "code",
   "execution_count": 2,
   "metadata": {
    "collapsed": true
   },
   "outputs": [],
   "source": [
    "import torch\n",
    "import torch.nn as nn\n",
    "import torch.optim as optim\n",
    "from torch.autograd import Variable\n",
    "from torch.utils.data import DataLoader\n",
    "from torch.utils.data import sampler\n",
    "from PIL import Image\n",
    "import matplotlib.pyplot as plt\n",
    "import torchvision.datasets as dset\n",
    "import torchvision.transforms as T\n",
    "import numpy as np\n",
    "import timeit\n",
    "from torchnet import meter\n",
    "%matplotlib inline\n",
    "\n",
    "import torch.nn.functional as F"
   ]
  },
  {
   "cell_type": "markdown",
   "metadata": {},
   "source": [
    "# 载入数据"
   ]
  },
  {
   "cell_type": "code",
   "execution_count": 4,
   "metadata": {},
   "outputs": [],
   "source": [
    "set_train = dset.MNIST('../MNIST', train=True, transform=T.ToTensor(), download=True)\n",
    "loader_train = DataLoader(set_train, batch_size=512)\n",
    "set_test = dset.MNIST('../MNIST', train=False, transform=T.ToTensor(),download=True)\n",
    "loader_test = DataLoader(set_test, batch_size=512)"
   ]
  },
  {
   "cell_type": "markdown",
   "metadata": {},
   "source": [
    "### 看下大小"
   ]
  },
  {
   "cell_type": "code",
   "execution_count": 5,
   "metadata": {},
   "outputs": [
    {
     "name": "stdout",
     "output_type": "stream",
     "text": [
      "训练集大小： torch.Size([60000, 28, 28])\n训练集标签： torch.Size([60000])\n测试集大小： torch.Size([10000, 28, 28])\n测试集标签： torch.Size([10000])\n"
     ]
    },
    {
     "data": {
      "text/plain": [
       "tuple"
      ]
     },
     "execution_count": 5,
     "metadata": {},
     "output_type": "execute_result"
    }
   ],
   "source": [
    "print(\"训练集大小：\",set_train.train_data.size())\n",
    "print(\"训练集标签：\",set_train.train_labels.size())\n",
    "print(\"测试集大小：\",set_test.test_data.size())\n",
    "print(\"测试集标签：\",set_test.test_labels.size())\n",
    "type(set_train[0]) #数据集的索引是tuple"
   ]
  },
  {
   "cell_type": "markdown",
   "metadata": {},
   "source": [
    "# 初始化一些参数"
   ]
  },
  {
   "cell_type": "code",
   "execution_count": 6,
   "metadata": {
    "collapsed": true
   },
   "outputs": [],
   "source": [
    "# This is a little utility that we'll use to reset the model\n",
    "# if we want to re-initialize all our parameters\n",
    "def reset(m):\n",
    "    if hasattr(m, 'reset_parameters'):\n",
    "        m.reset_parameters()\n",
    "        \n",
    "class Flatten(nn.Module):\n",
    "    def forward(self, x):\n",
    "        N, C, H, W = x.size() # 读取 N, C, H, W\n",
    "        return x.view(N, -1)  # \"flatten\" the C * H * W values into a single vector per image\n",
    "    \n",
    "def train(model, loss_fn, optimizer, num_epochs = 5, print_every = 200):\n",
    "    for epoch in range(num_epochs):\n",
    "        print('Starting epoch %d / %d' % (epoch + 1, num_epochs))\n",
    "        check_accuracy(model, loader_test)\n",
    "        model.train()\n",
    "        loss_meter = meter.AverageValueMeter()\n",
    "        for t, (x, y) in enumerate(loader_train):\n",
    "            x_var = Variable(x.cuda())\n",
    "            x_var = x_var.squeeze()\n",
    "            #print(x_var.shape)\n",
    "            y_var = Variable(y.cuda().long())\n",
    "            scores = model(x_var)\n",
    "            \n",
    "            loss = loss_fn(scores, y_var)\n",
    "            loss_meter.add(loss.data[0])\n",
    "                   \n",
    "            optimizer.zero_grad()\n",
    "            loss.backward()\n",
    "            optimizer.step()\n",
    "            if (t + 1) % print_every == 0:\n",
    "                print(\"t:{}:loss:{:.3}\".format(t,loss_meter.value()[0]))\n",
    "\n",
    "def check_accuracy(model, loader):\n",
    "    if loader.dataset.train:\n",
    "        print('Checking accuracy on validation set')\n",
    "    else:\n",
    "        print('Checking accuracy on test set')   \n",
    "    num_correct = 0\n",
    "    num_samples = 0\n",
    "    with torch.no_grad(): \n",
    "        for x, y in loader:\n",
    "            x_var = Variable(x.cuda())\n",
    "            x_var = x_var.squeeze()\n",
    "            scores = model(x_var)\n",
    "            _, preds = scores.data.cpu().max(1)\n",
    "            num_correct += (preds == y).sum()\n",
    "            num_samples += preds.size(0)\n",
    "        acc = float(num_correct) / num_samples\n",
    "        print('Got %d / %d correct (%.2f)' % (num_correct, num_samples, 100 * acc))"
   ]
  },
  {
   "cell_type": "markdown",
   "metadata": {},
   "source": [
    "# 构造模型 MyLeNet"
   ]
  },
  {
   "cell_type": "code",
   "execution_count": null,
   "metadata": {},
   "outputs": [
    {
     "data": {
      "text/plain": [
       "torch.Size([64, 10])"
      ]
     },
     "execution_count": 5,
     "metadata": {},
     "output_type": "execute_result"
    }
   ],
   "source": [
    "class Net(nn.Module):\n",
    "    def __init__(self, h_dim = 64, num_layer=2):\n",
    "        super(Net, self).__init__()\n",
    "        self.h_dim=h_dim\n",
    "        self.num_layer = num_layer\n",
    "        self.gru = nn.GRU(28,h_dim, num_layer, batch_first=True, dropout=0.2, bidirectional=False)\n",
    "        self.fc1 = nn.Linear(h_dim,1000)\n",
    "        self.relu= nn.ReLU()\n",
    "        self.fc2 = nn.Linear(1000,10)\n",
    "    def forward(self, x):\n",
    "        n = x.size(0)\n",
    "        h0 = x.new(self.num_layer,n,self.h_dim).fill_(0)\n",
    "        out,_ = self.gru(x,h0)\n",
    "        out = out[:,-1,:]\n",
    "        out = out.contiguous().view(n,-1)\n",
    "        out = self.fc1(out)\n",
    "        out = self.relu(out)\n",
    "        out = self.fc2(out)\n",
    "        return out\n",
    "    \n",
    "\n",
    "net =Net(256,3).cuda()\n",
    "\n",
    "x = torch.randn(64, 28, 28).cuda()\n",
    "x_var = Variable(x) \n",
    "\n",
    "net(x_var).shape       "
   ]
  },
  {
   "cell_type": "markdown",
   "metadata": {},
   "source": [
    "# 训练"
   ]
  },
  {
   "cell_type": "code",
   "execution_count": null,
   "metadata": {},
   "outputs": [
    {
     "name": "stdout",
     "output_type": "stream",
     "text": [
      "Starting epoch 1 / 20\n",
      "Checking accuracy on test set\n",
      "Got 977 / 10000 correct (9.77)\n",
      "Starting epoch 2 / 20\n",
      "Checking accuracy on test set\n",
      "Got 1304 / 10000 correct (13.04)\n",
      "Starting epoch 3 / 20\n",
      "Checking accuracy on test set\n",
      "Got 1135 / 10000 correct (11.35)\n",
      "Starting epoch 4 / 20\n",
      "Checking accuracy on test set\n",
      "Got 1135 / 10000 correct (11.35)\n",
      "Starting epoch 5 / 20\n",
      "Checking accuracy on test set\n",
      "Got 1135 / 10000 correct (11.35)\n",
      "Starting epoch 6 / 20\n",
      "Checking accuracy on test set\n",
      "Got 1135 / 10000 correct (11.35)\n",
      "Starting epoch 7 / 20\n",
      "Checking accuracy on test set\n",
      "Got 1135 / 10000 correct (11.35)\n",
      "Starting epoch 8 / 20\n",
      "Checking accuracy on test set\n",
      "Got 1135 / 10000 correct (11.35)\n"
     ]
    }
   ],
   "source": [
    "loss_fn = nn.CrossEntropyLoss().cuda()\n",
    "#optimizer = torch.optim.Adam(net.parameters(), lr=1e-3)\n",
    "optimizer = torch.optim.SGD(net.parameters(), lr=1e-3, momentum=0.9)\n",
    "\n",
    "#torch.cuda.random.manual_seed(123)\n",
    "#Net.apply(reset) #重置权值\n",
    "train(net, loss_fn, optimizer, num_epochs=20)\n",
    "check_accuracy(net, loader_test)"
   ]
  },
  {
   "cell_type": "code",
   "execution_count": null,
   "metadata": {},
   "outputs": [],
   "source": []
  }
 ],
 "metadata": {
  "kernelspec": {
   "display_name": "Python 3",
   "language": "python",
   "name": "python3"
  },
  "language_info": {
   "codemirror_mode": {
    "name": "ipython",
    "version": 3
   },
   "file_extension": ".py",
   "mimetype": "text/x-python",
   "name": "python",
   "nbconvert_exporter": "python",
   "pygments_lexer": "ipython3",
   "version": "3.6.3"
  }
 },
 "nbformat": 4,
 "nbformat_minor": 2
}
