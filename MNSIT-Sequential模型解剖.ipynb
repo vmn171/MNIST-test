{
 "cells": [
  {
   "cell_type": "markdown",
   "metadata": {},
   "source": [
    "# MNSIT-Sequential模板"
   ]
  },
  {
   "cell_type": "code",
   "execution_count": 1,
   "metadata": {
    "collapsed": true
   },
   "outputs": [],
   "source": [
    "import torch\n",
    "import torch.nn as nn\n",
    "import torch.optim as optim\n",
    "from torch.autograd import Variable\n",
    "from torch.utils.data import DataLoader\n",
    "from torch.utils.data import sampler\n",
    "from PIL import Image\n",
    "import matplotlib.pyplot as plt\n",
    "import torchvision.datasets as dset\n",
    "import torchvision.transforms as T\n",
    "import numpy as np\n",
    "import timeit\n",
    "%matplotlib inline"
   ]
  },
  {
   "cell_type": "markdown",
   "metadata": {},
   "source": [
    "# 载入数据"
   ]
  },
  {
   "cell_type": "code",
   "execution_count": 2,
   "metadata": {},
   "outputs": [
    {
     "name": "stdout",
     "output_type": "stream",
     "text": [
      "训练集大小： torch.Size([60000, 28, 28])\n",
      "训练集标签： torch.Size([60000])\n",
      "测试集大小： torch.Size([10000, 28, 28])\n",
      "测试集标签： torch.Size([10000])\n"
     ]
    },
    {
     "data": {
      "text/plain": [
       "tuple"
      ]
     },
     "execution_count": 2,
     "metadata": {},
     "output_type": "execute_result"
    }
   ],
   "source": [
    "set_train = dset.MNIST('./MNIST', train=True, transform=T.ToTensor(), download=True)\n",
    "loader_train = DataLoader(set_train, batch_size=64)\n",
    "set_test = dset.MNIST('./MNIST', train=False, transform=T.ToTensor(),download=True)\n",
    "loader_test = DataLoader(set_test, batch_size=64)\n",
    "\n",
    "print(\"训练集大小：\",set_train.train_data.size())\n",
    "print(\"训练集标签：\",set_train.train_labels.size())\n",
    "print(\"测试集大小：\",set_test.test_data.size())\n",
    "print(\"测试集标签：\",set_test.test_labels.size())\n",
    "type(set_train[0]) #数据集的索引是tuple"
   ]
  },
  {
   "cell_type": "markdown",
   "metadata": {},
   "source": [
    "# 显示MNIST数据集图像"
   ]
  },
  {
   "cell_type": "code",
   "execution_count": 3,
   "metadata": {},
   "outputs": [
    {
     "data": {
      "text/plain": [
       "<matplotlib.image.AxesImage at 0x16fade9cd68>"
      ]
     },
     "execution_count": 3,
     "metadata": {},
     "output_type": "execute_result"
    },
    {
     "data": {
      "image/png": "[encoded data removed]",
      "text/plain": [
       "<matplotlib.figure.Figure at 0x16faa6065f8>"
      ]
     },
     "metadata": {},
     "output_type": "display_data"
    }
   ],
   "source": [
    "i=np.random.randint(0,60000) #随机数\n",
    "img1 = set_train.train_data[i].numpy()\n",
    "plt.imshow(img1,cmap=\"binary\")"
   ]
  },
  {
   "cell_type": "markdown",
   "metadata": {},
   "source": [
    "# 初始化一些参数"
   ]
  },
  {
   "cell_type": "code",
   "execution_count": 13,
   "metadata": {
    "collapsed": true
   },
   "outputs": [],
   "source": [
    "# 打印loss的频率\n",
    "print_every = 100\n",
    "\n",
    "# This is a little utility that we'll use to reset the model\n",
    "# if we want to re-initialize all our parameters\n",
    "def reset(m):\n",
    "    if hasattr(m, 'reset_parameters'):\n",
    "        m.reset_parameters()\n",
    "        \n",
    "class Flatten(nn.Module):\n",
    "    def forward(self, x):\n",
    "        N, C, H, W = x.size() # 读取 N, C, H, W\n",
    "        return x.view(N, -1)  # \"flatten\" the C * H * W values into a single vector per image\n",
    "    \n",
    "def train(model, loss_fn, optimizer, num_epochs = 1):\n",
    "    for epoch in range(num_epochs):\n",
    "        print('Starting epoch %d / %d' % (epoch + 1, num_epochs))\n",
    "        check_accuracy(model, loader_test)\n",
    "        model.train()\n",
    "        for t, (x, y) in enumerate(loader_train):\n",
    "            x_var = Variable(x).cuda()\n",
    "            y_var = Variable(y).cuda()\n",
    "            scores = model(x_var)\n",
    "            loss = loss_fn(scores, y_var)\n",
    "            if (t + 1) % print_every == 0:\n",
    "                print('t = %d, loss = %.4f' % (t + 1, loss.data[0]))\n",
    "                   \n",
    "            optimizer.zero_grad()\n",
    "            loss.backward()\n",
    "            optimizer.step()\n",
    "\n",
    "def check_accuracy(model, loader):\n",
    "    if loader.dataset.train:\n",
    "        print('Checking accuracy on validation set')\n",
    "    else:\n",
    "        print('Checking accuracy on test set')   \n",
    "    num_correct = 0\n",
    "    num_samples = 0\n",
    "    model.eval() # Put the model in test mode (the opposite of model.train(), essentially)\n",
    "    for x, y in loader:\n",
    "        x_var = Variable(x, volatile=True).cuda()\n",
    "\n",
    "        scores = model(x_var)\n",
    "        _, preds = scores.data.cpu().max(1)\n",
    "        num_correct += (preds == y).sum()\n",
    "        num_samples += preds.size(0)\n",
    "    acc = float(num_correct) / num_samples\n",
    "    print('Got %d / %d correct (%.2f)' % (num_correct, num_samples, 100 * acc))"
   ]
  },
  {
   "cell_type": "markdown",
   "metadata": {},
   "source": [
    "# 构造模型 MyLeNet"
   ]
  },
  {
   "cell_type": "code",
   "execution_count": 5,
   "metadata": {},
   "outputs": [
    {
     "name": "stdout",
     "output_type": "stream",
     "text": [
      "torch.Size([64, 10])\n"
     ]
    },
    {
     "data": {
      "text/plain": [
       "True"
      ]
     },
     "execution_count": 5,
     "metadata": {},
     "output_type": "execute_result"
    }
   ],
   "source": [
    "# MyNeLet\n",
    "Net = nn.Sequential( \n",
    "                    nn.Conv2d(1, 16, kernel_size=3, stride=1, padding=1), #conv1\n",
    "                    nn.ReLU(inplace=True),\n",
    "                    nn.MaxPool2d(kernel_size=2,stride=2), #pool1\n",
    "                    nn.BatchNorm2d(16), #bn1\n",
    "                    nn.Conv2d(16, 32, kernel_size=3, stride=1,padding=0), #conv2\n",
    "                    nn.ReLU(inplace=True),\n",
    "                    nn.MaxPool2d(kernel_size=2,stride=2), #pool2\n",
    "                    nn.BatchNorm2d(32), #bn2\n",
    "                    Flatten(), \n",
    "                    nn.Linear(1152, 400),                    \n",
    "                    nn.ReLU(inplace=True),\n",
    "                    nn.Linear(400, 200),                    \n",
    "                    nn.ReLU(inplace=True),\n",
    "                    nn.Linear(200, 100),                    \n",
    "                    nn.ReLU(inplace=True),\n",
    "                    nn.Linear(100, 10),                   \n",
    "            )\n",
    "\n",
    "net =Net.cuda() #实例化模型\n",
    "\n",
    "x = torch.randn(64, 1, 28, 28) #测试模型是否架构数据\n",
    "x_var = Variable(x).cuda() # 变量化\n",
    "ans = net(x_var)        # 喂入模型\n",
    "\n",
    "# 应该相等\n",
    "print(ans.size())\n",
    "np.array_equal(np.array(ans.size()), np.array([64, 10]))"
   ]
  },
  {
   "cell_type": "markdown",
   "metadata": {},
   "source": [
    "# 训练"
   ]
  },
  {
   "cell_type": "code",
   "execution_count": 14,
   "metadata": {},
   "outputs": [
    {
     "name": "stdout",
     "output_type": "stream",
     "text": [
      "Starting epoch 1 / 2\n",
      "Checking accuracy on test set\n",
      "Got 980 / 10000 correct (9.80)\n",
      "t = 100, loss = 0.0626\n",
      "t = 200, loss = 0.0648\n",
      "t = 300, loss = 0.0451\n",
      "t = 400, loss = 0.2071\n",
      "t = 500, loss = 0.0966\n",
      "t = 600, loss = 0.0839\n",
      "t = 700, loss = 0.0462\n",
      "t = 800, loss = 0.0040\n",
      "t = 900, loss = 0.0109\n",
      "Starting epoch 2 / 2\n",
      "Checking accuracy on test set\n",
      "Got 9857 / 10000 correct (98.57)\n",
      "t = 100, loss = 0.0308\n",
      "t = 200, loss = 0.0070\n",
      "t = 300, loss = 0.0129\n",
      "t = 400, loss = 0.1064\n",
      "t = 500, loss = 0.0105\n",
      "t = 600, loss = 0.0506\n",
      "t = 700, loss = 0.0040\n",
      "t = 800, loss = 0.0010\n",
      "t = 900, loss = 0.0062\n",
      "Checking accuracy on test set\n",
      "Got 9862 / 10000 correct (98.62)\n"
     ]
    }
   ],
   "source": [
    "loss_fn = nn.CrossEntropyLoss().cuda()\n",
    "optimizer = torch.optim.Adam(net.parameters(), lr=1e-3)\n",
    "\n",
    "net.apply(reset) #重置权值\n",
    "train(net, loss_fn, optimizer, num_epochs=2)\n",
    "check_accuracy(net, loader_test)"
   ]
  },
  {
   "cell_type": "markdown",
   "metadata": {
    "collapsed": true
   },
   "source": [
    "# 可视化预测"
   ]
  },
  {
   "cell_type": "code",
   "execution_count": 16,
   "metadata": {},
   "outputs": [
    {
     "name": "stdout",
     "output_type": "stream",
     "text": [
      "根据图像预测的数字： [[8]]\n"
     ]
    },
    {
     "data": {
      "image/png": "[encoded data removed]",
      "text/plain": [
       "<matplotlib.figure.Figure at 0x25b1d1197f0>"
      ]
     },
     "metadata": {},
     "output_type": "display_data"
    }
   ],
   "source": [
    "i = np.random.randint(0,60000) #随机数\n",
    "x = set_train.train_data[i].view([1,1,28,28])\n",
    "x_var = Variable(x.type(dtype))\n",
    "img1 = set_train.train_data[i].numpy()\n",
    "plt.imshow(img1,cmap=\"binary\")\n",
    "scores = Net(x_var) #结果scores是个var\n",
    "s, i = scores.data.cpu().max(1) #取var的data，放入cpu，计算最大的索引i和分数s\n",
    "print(\"根据图像预测的数字：\",i.numpy())"
   ]
  },
  {
   "cell_type": "markdown",
   "metadata": {},
   "source": [
    "# 关于nn.module\n",
    "本质上只是一个容器，里面装了许多层，装了参数，装了运算规则"
   ]
  },
  {
   "cell_type": "markdown",
   "metadata": {
    "collapsed": true
   },
   "source": [
    "# net.parameters()\n",
    "\n",
    "是一个生成器，返回model的所有参数。\n",
    "parammeter和variable有些区别，p加入到module中后，默认就是可求导的，但可以修改requires_grad"
   ]
  },
  {
   "cell_type": "code",
   "execution_count": 77,
   "metadata": {},
   "outputs": [
    {
     "name": "stdout",
     "output_type": "stream",
     "text": [
      "torch.Size([16, 1, 3, 3]) <class 'torch.nn.parameter.Parameter'>\n",
      "torch.Size([16]) <class 'torch.nn.parameter.Parameter'>\n",
      "torch.Size([16]) <class 'torch.nn.parameter.Parameter'>\n",
      "torch.Size([16]) <class 'torch.nn.parameter.Parameter'>\n",
      "torch.Size([32, 16, 3, 3]) <class 'torch.nn.parameter.Parameter'>\n",
      "torch.Size([32]) <class 'torch.nn.parameter.Parameter'>\n",
      "torch.Size([32]) <class 'torch.nn.parameter.Parameter'>\n",
      "torch.Size([32]) <class 'torch.nn.parameter.Parameter'>\n",
      "torch.Size([400, 1152]) <class 'torch.nn.parameter.Parameter'>\n",
      "torch.Size([400]) <class 'torch.nn.parameter.Parameter'>\n",
      "torch.Size([200, 400]) <class 'torch.nn.parameter.Parameter'>\n",
      "torch.Size([200]) <class 'torch.nn.parameter.Parameter'>\n",
      "torch.Size([100, 200]) <class 'torch.nn.parameter.Parameter'>\n",
      "torch.Size([100]) <class 'torch.nn.parameter.Parameter'>\n",
      "torch.Size([10, 100]) <class 'torch.nn.parameter.Parameter'>\n",
      "torch.Size([10]) <class 'torch.nn.parameter.Parameter'>\n"
     ]
    }
   ],
   "source": [
    "for i in net.parameters():\n",
    "    print(i.size(),type(i))"
   ]
  },
  {
   "cell_type": "markdown",
   "metadata": {},
   "source": [
    "# net.children()\n",
    "返回子层的迭代器"
   ]
  },
  {
   "cell_type": "code",
   "execution_count": 59,
   "metadata": {},
   "outputs": [
    {
     "name": "stdout",
     "output_type": "stream",
     "text": [
      "Conv2d(1, 16, kernel_size=(3, 3), stride=(1, 1), padding=(1, 1))\n",
      "ReLU (inplace)\n",
      "MaxPool2d (size=(2, 2), stride=(2, 2), dilation=(1, 1))\n",
      "BatchNorm2d(16, eps=1e-05, momentum=0.1, affine=True)\n",
      "Conv2d(16, 32, kernel_size=(3, 3), stride=(1, 1))\n",
      "ReLU (inplace)\n",
      "MaxPool2d (size=(2, 2), stride=(2, 2), dilation=(1, 1))\n",
      "BatchNorm2d(32, eps=1e-05, momentum=0.1, affine=True)\n",
      "Flatten (\n",
      ")\n",
      "Linear (1152 -> 400)\n",
      "ReLU (inplace)\n",
      "Linear (400 -> 200)\n",
      "ReLU (inplace)\n",
      "Linear (200 -> 100)\n",
      "ReLU (inplace)\n",
      "Linear (100 -> 10)\n"
     ]
    }
   ],
   "source": [
    "for i in net.children():\n",
    "    print(i)"
   ]
  },
  {
   "cell_type": "markdown",
   "metadata": {},
   "source": [
    "# net.named_children()\n",
    "返回子层的迭代器,同时还包括一个名字"
   ]
  },
  {
   "cell_type": "code",
   "execution_count": 62,
   "metadata": {},
   "outputs": [
    {
     "name": "stdout",
     "output_type": "stream",
     "text": [
      "0\n",
      "1\n",
      "2\n",
      "3\n",
      "4\n",
      "5\n",
      "6\n",
      "7\n",
      "8\n",
      "9\n",
      "10\n",
      "11\n",
      "12\n",
      "13\n",
      "14\n",
      "15\n"
     ]
    }
   ],
   "source": [
    "for lyname,ly in net.named_children():\n",
    "    print(lyname)"
   ]
  },
  {
   "cell_type": "markdown",
   "metadata": {},
   "source": [
    "# net.modules()\n",
    "返回所有子层的迭代器"
   ]
  },
  {
   "cell_type": "code",
   "execution_count": 54,
   "metadata": {},
   "outputs": [
    {
     "name": "stdout",
     "output_type": "stream",
     "text": [
      "Sequential (\n",
      "  (0): Conv2d(1, 16, kernel_size=(3, 3), stride=(1, 1), padding=(1, 1))\n",
      "  (1): ReLU (inplace)\n",
      "  (2): MaxPool2d (size=(2, 2), stride=(2, 2), dilation=(1, 1))\n",
      "  (3): BatchNorm2d(16, eps=1e-05, momentum=0.1, affine=True)\n",
      "  (4): Conv2d(16, 32, kernel_size=(3, 3), stride=(1, 1))\n",
      "  (5): ReLU (inplace)\n",
      "  (6): MaxPool2d (size=(2, 2), stride=(2, 2), dilation=(1, 1))\n",
      "  (7): BatchNorm2d(32, eps=1e-05, momentum=0.1, affine=True)\n",
      "  (8): Flatten (\n",
      "  )\n",
      "  (9): Linear (1152 -> 400)\n",
      "  (10): ReLU (inplace)\n",
      "  (11): Linear (400 -> 200)\n",
      "  (12): ReLU (inplace)\n",
      "  (13): Linear (200 -> 100)\n",
      "  (14): ReLU (inplace)\n",
      "  (15): Linear (100 -> 10)\n",
      ")\n",
      "Conv2d(1, 16, kernel_size=(3, 3), stride=(1, 1), padding=(1, 1))\n"
     ]
    }
   ],
   "source": [
    "nl = list(net.modules())\n",
    "print(nl[0])\n",
    "print(nl[1])"
   ]
  },
  {
   "cell_type": "markdown",
   "metadata": {},
   "source": [
    "# net.named_modules()"
   ]
  },
  {
   "cell_type": "code",
   "execution_count": 20,
   "metadata": {},
   "outputs": [
    {
     "name": "stdout",
     "output_type": "stream",
     "text": [
      " <class 'torch.nn.modules.container.Sequential'>\n",
      "0 <class 'torch.nn.modules.conv.Conv2d'>\n",
      "1 <class 'torch.nn.modules.activation.ReLU'>\n",
      "2 <class 'torch.nn.modules.pooling.MaxPool2d'>\n",
      "3 <class 'torch.nn.modules.batchnorm.BatchNorm2d'>\n",
      "4 <class 'torch.nn.modules.conv.Conv2d'>\n",
      "5 <class 'torch.nn.modules.activation.ReLU'>\n",
      "6 <class 'torch.nn.modules.pooling.MaxPool2d'>\n",
      "7 <class 'torch.nn.modules.batchnorm.BatchNorm2d'>\n",
      "8 <class '__main__.Flatten'>\n",
      "9 <class 'torch.nn.modules.linear.Linear'>\n",
      "10 <class 'torch.nn.modules.activation.ReLU'>\n",
      "11 <class 'torch.nn.modules.linear.Linear'>\n",
      "12 <class 'torch.nn.modules.activation.ReLU'>\n",
      "13 <class 'torch.nn.modules.linear.Linear'>\n",
      "14 <class 'torch.nn.modules.activation.ReLU'>\n",
      "15 <class 'torch.nn.modules.linear.Linear'>\n"
     ]
    }
   ],
   "source": [
    "for lyname,ly in net.named_modules():\n",
    "    print(lyname,type(ly))"
   ]
  },
  {
   "cell_type": "markdown",
   "metadata": {},
   "source": [
    "## nn.Sequential(* args)\n",
    "时序容器，可以添加到module中，前面已经有例子了，也可以传入带name的模式\n",
    "    \n",
    "    model = nn.Sequential(OrderedDict([\n",
    "          ('conv1', nn.Conv2d(1,20,5)),\n",
    "          ('relu1', nn.ReLU()),\n",
    "          ('conv2', nn.Conv2d(20,64,5)),\n",
    "          ('relu2', nn.ReLU())\n",
    "        ]))"
   ]
  },
  {
   "cell_type": "markdown",
   "metadata": {},
   "source": [
    "## state_dict\n",
    "保存着module的所有状态（state），以字典形式存储"
   ]
  },
  {
   "cell_type": "code",
   "execution_count": 15,
   "metadata": {},
   "outputs": [
    {
     "data": {
      "text/plain": [
       "odict_keys(['0.weight', '0.bias', '3.weight', '3.bias', '3.running_mean', '3.running_var', '4.weight', '4.bias', '7.weight', '7.bias', '7.running_mean', '7.running_var', '9.weight', '9.bias', '11.weight', '11.bias', '13.weight', '13.bias', '15.weight', '15.bias'])"
      ]
     },
     "execution_count": 15,
     "metadata": {},
     "output_type": "execute_result"
    }
   ],
   "source": [
    "net.state_dict().keys()"
   ]
  },
  {
   "cell_type": "markdown",
   "metadata": {},
   "source": [
    "# 其他模型方法\n",
    "### net.eval()将模型设置为推理模式；\n",
    "### net.float64()将这个模型数据类型变化\n",
    "### net.zero_grad() 梯度归0"
   ]
  },
  {
   "cell_type": "code",
   "execution_count": 19,
   "metadata": {},
   "outputs": [
    {
     "name": "stdout",
     "output_type": "stream",
     "text": [
      "<class 'torch.nn.modules.conv.Conv2d'>\n",
      "<class 'torch.nn.modules.activation.ReLU'>\n",
      "<class 'torch.nn.modules.pooling.MaxPool2d'>\n",
      "<class 'torch.nn.modules.batchnorm.BatchNorm2d'>\n",
      "<class 'torch.nn.modules.conv.Conv2d'>\n",
      "<class 'torch.nn.modules.activation.ReLU'>\n",
      "<class 'torch.nn.modules.pooling.MaxPool2d'>\n",
      "<class 'torch.nn.modules.batchnorm.BatchNorm2d'>\n",
      "<class '__main__.Flatten'>\n",
      "<class 'torch.nn.modules.linear.Linear'>\n",
      "<class 'torch.nn.modules.activation.ReLU'>\n",
      "<class 'torch.nn.modules.linear.Linear'>\n",
      "<class 'torch.nn.modules.activation.ReLU'>\n",
      "<class 'torch.nn.modules.linear.Linear'>\n",
      "<class 'torch.nn.modules.activation.ReLU'>\n",
      "<class 'torch.nn.modules.linear.Linear'>\n"
     ]
    }
   ],
   "source": [
    "for name, module in net._modules.items():\n",
    "    print(type(module))"
   ]
  },
  {
   "cell_type": "code",
   "execution_count": null,
   "metadata": {
    "collapsed": true
   },
   "outputs": [],
   "source": []
  }
 ],
 "metadata": {
  "kernelspec": {
   "display_name": "Python 3",
   "language": "python",
   "name": "python3"
  },
  "language_info": {
   "codemirror_mode": {
    "name": "ipython",
    "version": 3
   },
   "file_extension": ".py",
   "mimetype": "text/x-python",
   "name": "python",
   "nbconvert_exporter": "python",
   "pygments_lexer": "ipython3",
   "version": "3.6.1"
  }
 },
 "nbformat": 4,
 "nbformat_minor": 2
}
