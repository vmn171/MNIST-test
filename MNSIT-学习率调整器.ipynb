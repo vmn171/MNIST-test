{
 "cells": [
  {
   "cell_type": "markdown",
   "metadata": {},
   "source": [
    "# MNSIT-Sequential模板"
   ]
  },
  {
   "cell_type": "code",
   "execution_count": 1,
   "metadata": {
    "collapsed": true
   },
   "outputs": [],
   "source": [
    "import torch\n",
    "import torch.nn as nn\n",
    "import torch.optim as optim\n",
    "from torch.autograd import Variable\n",
    "from torch.utils.data import DataLoader\n",
    "from torch.utils.data import sampler\n",
    "from PIL import Image\n",
    "import matplotlib.pyplot as plt\n",
    "import torchvision.datasets as dset\n",
    "import torchvision.transforms as T\n",
    "import numpy as np\n",
    "%matplotlib inline"
   ]
  },
  {
   "cell_type": "markdown",
   "metadata": {},
   "source": [
    "# 载入数据"
   ]
  },
  {
   "cell_type": "code",
   "execution_count": 2,
   "metadata": {},
   "outputs": [
    {
     "name": "stdout",
     "output_type": "stream",
     "text": [
      "训练集大小： torch.Size([60000, 28, 28])\n",
      "训练集标签： torch.Size([60000])\n",
      "测试集大小： torch.Size([10000, 28, 28])\n",
      "测试集标签： torch.Size([10000])\n"
     ]
    },
    {
     "data": {
      "text/plain": [
       "tuple"
      ]
     },
     "execution_count": 2,
     "metadata": {},
     "output_type": "execute_result"
    }
   ],
   "source": [
    "set_train = dset.MNIST('./MNIST', train=True, transform=T.ToTensor(), download=True)\n",
    "loader_train = DataLoader(set_train, batch_size=64)\n",
    "set_test = dset.MNIST('./MNIST', train=False, transform=T.ToTensor(),download=True)\n",
    "loader_test = DataLoader(set_test, batch_size=64)\n",
    "\n",
    "print(\"训练集大小：\",set_train.train_data.size())\n",
    "print(\"训练集标签：\",set_train.train_labels.size())\n",
    "print(\"测试集大小：\",set_test.test_data.size())\n",
    "print(\"测试集标签：\",set_test.test_labels.size())\n",
    "type(set_train[0]) #数据集的索引是tuple"
   ]
  },
  {
   "cell_type": "markdown",
   "metadata": {},
   "source": [
    "# 显示MNIST数据集图像"
   ]
  },
  {
   "cell_type": "code",
   "execution_count": 3,
   "metadata": {},
   "outputs": [
    {
     "data": {
      "text/plain": [
       "<matplotlib.image.AxesImage at 0x135df95f8>"
      ]
     },
     "execution_count": 3,
     "metadata": {},
     "output_type": "execute_result"
    },
    {
     "data": {
      "image/png": "[encoded data removed]",
      "text/plain": [
       "<matplotlib.figure.Figure at 0x132888470>"
      ]
     },
     "metadata": {},
     "output_type": "display_data"
    }
   ],
   "source": [
    "i=np.random.randint(0,60000) #随机数\n",
    "img1 = set_train.train_data[i].numpy()\n",
    "plt.imshow(img1,cmap=\"binary\")"
   ]
  },
  {
   "cell_type": "markdown",
   "metadata": {},
   "source": [
    "# 初始化一些参数"
   ]
  },
  {
   "cell_type": "code",
   "execution_count": 21,
   "metadata": {
    "collapsed": true
   },
   "outputs": [],
   "source": [
    "# 打印loss的频率\n",
    "print_every = 100\n",
    "\n",
    "# This is a little utility that we'll use to reset the model\n",
    "# if we want to re-initialize all our parameters\n",
    "def reset(m):\n",
    "    if hasattr(m, 'reset_parameters'):\n",
    "        m.reset_parameters()\n",
    "    \n",
    "def train(model, loss_fn, optimizer, num_epochs = 1):\n",
    "    for epoch in range(num_epochs):\n",
    "        print('Starting epoch %d / %d' % (epoch + 1, num_epochs))\n",
    "        check_accuracy(model, loader_test)\n",
    "        model.train()\n",
    "        for t, (x, y) in enumerate(loader_train):\n",
    "            x_var = Variable(x.cuda())\n",
    "            y_var = Variable(y.cuda().long())\n",
    "            scores = model(x_var)\n",
    "            loss = loss_fn(scores, y_var)\n",
    "            if (t + 1) % print_every == 0:\n",
    "                print('t = %d, loss = %.4f' % (t + 1, loss.data[0]))\n",
    "                   \n",
    "            optimizer.zero_grad()\n",
    "            loss.backward()\n",
    "            scheduler.step(loss.cpu().data.numpy()[0])\n",
    "            optimizer.step()\n",
    "def check_accuracy(model, loader):\n",
    "    if loader.dataset.train:\n",
    "        print('Checking accuracy on validation set')\n",
    "    else:\n",
    "        print('Checking accuracy on test set')   \n",
    "    num_correct = 0\n",
    "    num_samples = 0\n",
    "    model.eval() # Put the model in test mode (the opposite of model.train(), essentially)\n",
    "    for x, y in loader:\n",
    "        x_var = Variable(x.cuda(), volatile=True)\n",
    "\n",
    "        scores = model(x_var)\n",
    "        _, preds = scores.data.cpu().max(1)\n",
    "        num_correct += (preds == y).sum()\n",
    "        num_samples += preds.size(0)\n",
    "    acc = float(num_correct) / num_samples\n",
    "    print('Got %d / %d correct (%.2f)' % (num_correct, num_samples, 100 * acc))"
   ]
  },
  {
   "cell_type": "markdown",
   "metadata": {},
   "source": [
    "# 构造模型Net_test01\n",
    "该网络接近LeNet，用标准写法，没有bn，用来试验用"
   ]
  },
  {
   "cell_type": "code",
   "execution_count": 15,
   "metadata": {},
   "outputs": [
    {
     "name": "stdout",
     "output_type": "stream",
     "text": [
      "torch.Size([64, 10])\n"
     ]
    },
    {
     "data": {
      "text/plain": [
       "True"
      ]
     },
     "execution_count": 15,
     "metadata": {},
     "output_type": "execute_result"
    }
   ],
   "source": [
    "class Net(nn.Module):\n",
    "    def __init__(self):\n",
    "        super(Net, self).__init__()\n",
    "        self.features = nn.Sequential(\n",
    "            nn.Conv2d(1, 16, kernel_size=3, stride=1, padding=1), #conv1\n",
    "            nn.ReLU(inplace=True),\n",
    "            nn.MaxPool2d(kernel_size=2,stride=2), #pool1\n",
    "            nn.Conv2d(16, 32, kernel_size=3, stride=1,padding=0), #conv2\n",
    "            nn.ReLU(inplace=True),\n",
    "            nn.MaxPool2d(kernel_size=2,stride=2), #pool2\n",
    "        )\n",
    "        self.classifier = nn.Sequential( \n",
    "            nn.Linear(1152, 400),                    \n",
    "            nn.ReLU(inplace=True),\n",
    "            nn.Linear(400, 200),                    \n",
    "            nn.ReLU(inplace=True),\n",
    "            nn.Linear(200, 100),                    \n",
    "            nn.ReLU(inplace=True),\n",
    "            nn.Linear(100, 10),                   \n",
    "            )\n",
    "        \n",
    "    def forward(self,x):\n",
    "        x = self.features(x)\n",
    "        x = x.view(x.size(0),-1)\n",
    "        x = self.classifier(x)\n",
    "        return x\n",
    "   \n",
    "        \n",
    "\n",
    "net = Net() #实例化模型\n",
    "net.cuda()\n",
    "\n",
    "x = torch.randn(64, 1, 28, 28) #测试模型是否架构数据\n",
    "x = x.cuda()\n",
    "x_var = Variable(x) # 变量化\n",
    "ans = net(x_var)        # 喂入模型\n",
    "\n",
    "# 应该相等\n",
    "print(ans.size())\n",
    "np.array_equal(np.array(ans.size()), np.array([64, 10]))"
   ]
  },
  {
   "cell_type": "markdown",
   "metadata": {},
   "source": [
    "# 训练"
   ]
  },
  {
   "cell_type": "code",
   "execution_count": 24,
   "metadata": {},
   "outputs": [
    {
     "name": "stdout",
     "output_type": "stream",
     "text": [
      "Starting epoch 1 / 5\n",
      "Checking accuracy on test set\n",
      "Got 910 / 10000 correct (9.10)\n",
      "t = 100, loss = 0.2882\n",
      "t = 200, loss = 0.3022\n",
      "t = 300, loss = 0.1686\n",
      "t = 400, loss = 0.1735\n",
      "t = 500, loss = 0.2092\n",
      "t = 600, loss = 0.2578\n",
      "t = 700, loss = 0.1427\n",
      "t = 800, loss = 0.1957\n",
      "t = 900, loss = 0.0490\n",
      "Starting epoch 2 / 5\n",
      "Checking accuracy on test set\n",
      "Got 9726 / 10000 correct (97.26)\n",
      "t = 100, loss = 0.0368\n",
      "t = 200, loss = 0.1013\n",
      "t = 300, loss = 0.0273\n",
      "t = 400, loss = 0.1604\n",
      "t = 500, loss = 0.1054\n",
      "t = 600, loss = 0.0341\n",
      "t = 700, loss = 0.0828\n",
      "t = 800, loss = 0.0290\n",
      "t = 900, loss = 0.0430\n",
      "Starting epoch 3 / 5\n",
      "Checking accuracy on test set\n",
      "Got 9863 / 10000 correct (98.63)\n",
      "t = 100, loss = 0.0094\n",
      "t = 200, loss = 0.0251\n",
      "t = 300, loss = 0.0223\n",
      "t = 400, loss = 0.1741\n",
      "t = 500, loss = 0.0495\n",
      "t = 600, loss = 0.0313\n",
      "t = 700, loss = 0.0203\n",
      "t = 800, loss = 0.0040\n",
      "t = 900, loss = 0.0069\n",
      "Starting epoch 4 / 5\n",
      "Checking accuracy on test set\n",
      "Got 9850 / 10000 correct (98.50)\n",
      "t = 100, loss = 0.0072\n",
      "t = 200, loss = 0.0038\n",
      "t = 300, loss = 0.0019\n",
      "t = 400, loss = 0.1347\n",
      "t = 500, loss = 0.0557\n",
      "t = 600, loss = 0.0830\n",
      "t = 700, loss = 0.0119\n",
      "t = 800, loss = 0.0013\n",
      "t = 900, loss = 0.0035\n",
      "Starting epoch 5 / 5\n",
      "Checking accuracy on test set\n",
      "Got 9877 / 10000 correct (98.77)\n",
      "t = 100, loss = 0.0102\n",
      "t = 200, loss = 0.0018\n",
      "t = 300, loss = 0.0031\n",
      "t = 400, loss = 0.1521\n",
      "t = 500, loss = 0.0370\n",
      "t = 600, loss = 0.0191\n",
      "t = 700, loss = 0.0078\n",
      "t = 800, loss = 0.0006\n",
      "t = 900, loss = 0.0040\n",
      "Checking accuracy on test set\n",
      "Got 9865 / 10000 correct (98.65)\n"
     ]
    }
   ],
   "source": [
    "loss_fn = nn.CrossEntropyLoss().cuda()\n",
    "optimizer = torch.optim.Adam(net.parameters(), lr=1e-3)\n",
    "scheduler = torch.optim.lr_scheduler.ReduceLROnPlateau(optimizer, 'min', patience=10, factor=0.5, verbose=True)\n",
    "\n",
    "net.apply(reset) #重置权值\n",
    "train(net, loss_fn, optimizer, num_epochs=5)\n",
    "check_accuracy(net, loader_test)"
   ]
  },
  {
   "cell_type": "markdown",
   "metadata": {
    "collapsed": true
   },
   "source": [
    "# 可视化预测"
   ]
  },
  {
   "cell_type": "code",
   "execution_count": 10,
   "metadata": {},
   "outputs": [
    {
     "name": "stdout",
     "output_type": "stream",
     "text": [
      "根据图像预测的数字： [[8]]\n"
     ]
    },
    {
     "data": {
      "image/png": "[encoded data removed]",
      "text/plain": [
       "<matplotlib.figure.Figure at 0x27a11e49240>"
      ]
     },
     "metadata": {},
     "output_type": "display_data"
    }
   ],
   "source": [
    "dtype = torch.cuda.FloatTensor#设置数据类型，cuda是gpu版\n",
    "i = np.random.randint(0,60000) #随机数\n",
    "x = set_train.train_data[i].view([1,1,28,28])\n",
    "x_var = Variable(x.type(dtype))\n",
    "img1 = set_train.train_data[i].numpy()\n",
    "plt.imshow(img1,cmap=\"binary\")\n",
    "scores = net(x_var) #结果scores是个var\n",
    "s, i = scores.data.cpu().max(1) #取var的data，放入cpu，计算最大的索引i和分数s\n",
    "print(\"根据图像预测的数字：\",i.numpy())"
   ]
  },
  {
   "cell_type": "code",
   "execution_count": 2,
   "metadata": {},
   "outputs": [
    {
     "ename": "NameError",
     "evalue": "name 'net' is not defined",
     "output_type": "error",
     "traceback": [
      "\u001b[1;31m---------------------------------------------------------------------------\u001b[0m",
      "\u001b[1;31mNameError\u001b[0m                                 Traceback (most recent call last)",
      "\u001b[1;32m<ipython-input-2-1e134a8d98b0>\u001b[0m in \u001b[0;36m<module>\u001b[1;34m()\u001b[0m\n\u001b[1;32m----> 1\u001b[1;33m \u001b[0mtorch\u001b[0m\u001b[1;33m.\u001b[0m\u001b[0msave\u001b[0m\u001b[1;33m(\u001b[0m\u001b[0mnet\u001b[0m\u001b[1;33m,\u001b[0m\u001b[1;34m\"net_s.pkl\"\u001b[0m\u001b[1;33m)\u001b[0m\u001b[1;33m\u001b[0m\u001b[0m\n\u001b[0m",
      "\u001b[1;31mNameError\u001b[0m: name 'net' is not defined"
     ]
    }
   ],
   "source": [
    "torch.save(net,\"net_s.pkl\")"
   ]
  },
  {
   "cell_type": "code",
   "execution_count": 6,
   "metadata": {
    "collapsed": true
   },
   "outputs": [],
   "source": [
    "net2 = torch.load(\"net_s.pkl\")"
   ]
  },
  {
   "cell_type": "code",
   "execution_count": null,
   "metadata": {
    "collapsed": true
   },
   "outputs": [],
   "source": []
  }
 ],
 "metadata": {
  "kernelspec": {
   "display_name": "Python 3",
   "language": "python",
   "name": "python3"
  },
  "language_info": {
   "codemirror_mode": {
    "name": "ipython",
    "version": 3
   },
   "file_extension": ".py",
   "mimetype": "text/x-python",
   "name": "python",
   "nbconvert_exporter": "python",
   "pygments_lexer": "ipython3",
   "version": "3.6.1"
  }
 },
 "nbformat": 4,
 "nbformat_minor": 2
}
